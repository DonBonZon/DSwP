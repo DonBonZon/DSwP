{
  "nbformat": 4,
  "nbformat_minor": 0,
  "metadata": {
    "colab": {
      "name": "Statystyka4.ipynb",
      "provenance": [],
      "collapsed_sections": []
    },
    "kernelspec": {
      "name": "python3",
      "display_name": "Python 3"
    },
    "language_info": {
      "name": "python"
    }
  },
  "cells": [
    {
      "cell_type": "markdown",
      "metadata": {
        "id": "1xmeJb0O_RH5"
      },
      "source": [
        "Zad 1"
      ]
    },
    {
      "cell_type": "code",
      "metadata": {
        "colab": {
          "base_uri": "https://localhost:8080/"
        },
        "id": "5-l5uKwTzgzc",
        "outputId": "c0e005a7-9295-4d42-8df9-ceda9f46a5c8"
      },
      "source": [
        "from scipy.stats import norm\n",
        "from scipy.stats import ttest_ind\n",
        "from scipy.stats import ttest_1samp\n",
        "import pandas as pd\n",
        "import numpy as np\n",
        "\n",
        "stdDiv = norm.rvs(loc=2, scale=30, size=200)\n",
        "stat,p = ttest_1samp(stdDiv,2.5)\n",
        "print(f\"Stat= {stat} p={p}\")"
      ],
      "execution_count": null,
      "outputs": [
        {
          "output_type": "stream",
          "name": "stdout",
          "text": [
            "Stat= 0.15620296293555744 p=0.8760313876653902\n"
          ]
        }
      ]
    },
    {
      "cell_type": "markdown",
      "metadata": {
        "id": "E8e445tE_UcY"
      },
      "source": [
        "Zad 2"
      ]
    },
    {
      "cell_type": "code",
      "metadata": {
        "colab": {
          "base_uri": "https://localhost:8080/",
          "height": 206
        },
        "id": "8884JKEH4F_L",
        "outputId": "cfc29f6e-6569-42ab-b486-9106f0cc56e8"
      },
      "source": [
        "\n",
        "\n",
        "df = pd.read_csv(\"/napoje.csv\",sep=\";\")\n",
        "df.head()"
      ],
      "execution_count": null,
      "outputs": [
        {
          "output_type": "execute_result",
          "data": {
            "text/html": [
              "<div>\n",
              "<style scoped>\n",
              "    .dataframe tbody tr th:only-of-type {\n",
              "        vertical-align: middle;\n",
              "    }\n",
              "\n",
              "    .dataframe tbody tr th {\n",
              "        vertical-align: top;\n",
              "    }\n",
              "\n",
              "    .dataframe thead th {\n",
              "        text-align: right;\n",
              "    }\n",
              "</style>\n",
              "<table border=\"1\" class=\"dataframe\">\n",
              "  <thead>\n",
              "    <tr style=\"text-align: right;\">\n",
              "      <th></th>\n",
              "      <th>mies</th>\n",
              "      <th>rok</th>\n",
              "      <th>pepsi</th>\n",
              "      <th>fanta</th>\n",
              "      <th>żywiec</th>\n",
              "      <th>okocim</th>\n",
              "      <th>regionalne</th>\n",
              "      <th>cola</th>\n",
              "      <th>lech</th>\n",
              "    </tr>\n",
              "  </thead>\n",
              "  <tbody>\n",
              "    <tr>\n",
              "      <th>0</th>\n",
              "      <td>1</td>\n",
              "      <td>2001</td>\n",
              "      <td>108447</td>\n",
              "      <td>43302</td>\n",
              "      <td>186385</td>\n",
              "      <td>54301</td>\n",
              "      <td>45065</td>\n",
              "      <td>227013</td>\n",
              "      <td>56306</td>\n",
              "    </tr>\n",
              "    <tr>\n",
              "      <th>1</th>\n",
              "      <td>2</td>\n",
              "      <td>2001</td>\n",
              "      <td>105439</td>\n",
              "      <td>46711</td>\n",
              "      <td>168782</td>\n",
              "      <td>68131</td>\n",
              "      <td>43933</td>\n",
              "      <td>221115</td>\n",
              "      <td>67212</td>\n",
              "    </tr>\n",
              "    <tr>\n",
              "      <th>2</th>\n",
              "      <td>3</td>\n",
              "      <td>2001</td>\n",
              "      <td>111675</td>\n",
              "      <td>36029</td>\n",
              "      <td>172186</td>\n",
              "      <td>63104</td>\n",
              "      <td>46663</td>\n",
              "      <td>222812</td>\n",
              "      <td>67398</td>\n",
              "    </tr>\n",
              "    <tr>\n",
              "      <th>3</th>\n",
              "      <td>4</td>\n",
              "      <td>2001</td>\n",
              "      <td>113232</td>\n",
              "      <td>33659</td>\n",
              "      <td>172445</td>\n",
              "      <td>50871</td>\n",
              "      <td>45195</td>\n",
              "      <td>238631</td>\n",
              "      <td>57100</td>\n",
              "    </tr>\n",
              "    <tr>\n",
              "      <th>4</th>\n",
              "      <td>5</td>\n",
              "      <td>2001</td>\n",
              "      <td>110274</td>\n",
              "      <td>40853</td>\n",
              "      <td>174526</td>\n",
              "      <td>67924</td>\n",
              "      <td>47926</td>\n",
              "      <td>222963</td>\n",
              "      <td>65001</td>\n",
              "    </tr>\n",
              "  </tbody>\n",
              "</table>\n",
              "</div>"
            ],
            "text/plain": [
              "   mies   rok   pepsi  fanta   żywiec  okocim  regionalne    cola   lech\n",
              "0     1  2001  108447   43302  186385   54301       45065  227013  56306\n",
              "1     2  2001  105439   46711  168782   68131       43933  221115  67212\n",
              "2     3  2001  111675   36029  172186   63104       46663  222812  67398\n",
              "3     4  2001  113232   33659  172445   50871       45195  238631  57100\n",
              "4     5  2001  110274   40853  174526   67924       47926  222963  65001"
            ]
          },
          "metadata": {},
          "execution_count": 10
        }
      ]
    },
    {
      "cell_type": "code",
      "metadata": {
        "colab": {
          "base_uri": "https://localhost:8080/"
        },
        "id": "gm9JhlaO6yqD",
        "outputId": "233dec1b-d340-4f3e-d51c-4fd6f0004847"
      },
      "source": [
        "lech = df.groupby(\"rok\")[\"lech\"].mean()\n",
        "print(\"Lech\\n\\n\",lech)\n",
        "print(f\"Średnia: {np.mean(lech)}\\n\")\n",
        "\n",
        "cola = df.groupby(\"rok\")[\"cola\"].mean()\n",
        "print(\"Cola\\n\\n\",cola)\n",
        "print(f\"Średnia: {np.mean(cola)}\\n\")\n",
        "\n",
        "regionalne = df.groupby(\"rok\")[\"regionalne\"].mean()\n",
        "print(\"regionalne\\n\\n\",regionalne)\n",
        "print(f\"Średnia: {np.mean(regionalne)}\")"
      ],
      "execution_count": null,
      "outputs": [
        {
          "output_type": "stream",
          "name": "stdout",
          "text": [
            "Lech\n",
            "\n",
            " rok\n",
            "2001    62204.916667\n",
            "2002    61290.166667\n",
            "2003    60884.916667\n",
            "2004    59732.000000\n",
            "2005    61050.666667\n",
            "2006    62740.333333\n",
            "2007    62575.416667\n",
            "2008    61919.583333\n",
            "2009    60582.166667\n",
            "2010    63246.583333\n",
            "2011    60309.416667\n",
            "2012    59274.416667\n",
            "2013    60107.166667\n",
            "2014    60989.083333\n",
            "2015    60195.250000\n",
            "2016    60359.500000\n",
            "Name: lech, dtype: float64\n",
            "Średnia: 61091.34895833333\n",
            "\n",
            "Cola\n",
            "\n",
            " rok\n",
            "2001    230235.666667\n",
            "2002    223288.583333\n",
            "2003    223764.333333\n",
            "2004    220209.416667\n",
            "2005    226954.250000\n",
            "2006    229088.666667\n",
            "2007    231207.583333\n",
            "2008    227740.833333\n",
            "2009    226287.250000\n",
            "2010    223693.583333\n",
            "2011    223232.166667\n",
            "2012    226969.833333\n",
            "2013    226616.833333\n",
            "2014    227253.666667\n",
            "2015    228803.250000\n",
            "2016    226885.583333\n",
            "Name: cola, dtype: float64\n",
            "Średnia: 226389.46875\n",
            "\n",
            "regionalne\n",
            "\n",
            " rok\n",
            "2001    45771.916667\n",
            "2002    45211.000000\n",
            "2003    46315.500000\n",
            "2004    45965.000000\n",
            "2005    48088.500000\n",
            "2006    46727.666667\n",
            "2007    48403.916667\n",
            "2008    48369.166667\n",
            "2009    47392.916667\n",
            "2010    49474.083333\n",
            "2011    49202.916667\n",
            "2012    48760.333333\n",
            "2013    51183.166667\n",
            "2014    51957.416667\n",
            "2015    52871.666667\n",
            "2016    52993.416667\n",
            "Name: regionalne, dtype: float64\n",
            "Średnia: 48668.03645833333\n"
          ]
        }
      ]
    },
    {
      "cell_type": "markdown",
      "metadata": {
        "id": "1cObe9sV_Wu6"
      },
      "source": [
        "Zad 3"
      ]
    },
    {
      "cell_type": "code",
      "metadata": {
        "colab": {
          "base_uri": "https://localhost:8080/"
        },
        "id": "E9O0DX5O9bEz",
        "outputId": "a5858325-da4d-48f7-e7a3-65b57eff78b9"
      },
      "source": [
        "from scipy.stats import shapiro\n",
        "\n",
        "isNormal = []\n",
        "for drink in df.keys():\n",
        "  data = df[drink]\n",
        "  stat,p = shapiro(data)\n",
        "  print(f\"{drink}: stat={stat},p={p}\")\n"
      ],
      "execution_count": null,
      "outputs": [
        {
          "output_type": "stream",
          "name": "stdout",
          "text": [
            "mies: stat=0.9405028820037842,p=4.075907327205641e-07\n",
            "rok: stat=0.9462488889694214,p=1.3103949640935753e-06\n",
            "pepsi: stat=0.991237223148346,p=0.29676657915115356\n",
            "fanta : stat=0.9894832372665405,p=0.17038102447986603\n",
            "żywiec: stat=0.9913594126701355,p=0.3080180585384369\n",
            "okocim: stat=0.9875108599662781,p=0.08893532305955887\n",
            "regionalne: stat=0.9365047812461853,p=1.8769890175462933e-07\n",
            "cola: stat=0.9935650825500488,p=0.5695559978485107\n",
            "lech: stat=0.9936925768852234,p=0.5875298380851746\n"
          ]
        }
      ]
    },
    {
      "cell_type": "markdown",
      "metadata": {
        "id": "hw_crgMt_YA6"
      },
      "source": [
        "Zad 4"
      ]
    },
    {
      "cell_type": "code",
      "metadata": {
        "colab": {
          "base_uri": "https://localhost:8080/"
        },
        "id": "0NYP3ANR_QHQ",
        "outputId": "74b27714-0dae-41db-c880-1fbd5c78de66"
      },
      "source": [
        "stat1, p1=ttest_ind(df['okocim'],df['lech']) #lech - okocim\n",
        "stat2, p2=ttest_ind(df['fanta '],df['regionalne']) #fanta - regionalne\n",
        "stat3, p3=ttest_ind(df['cola'],df['pepsi']) #cola - pepsi\n",
        "\n",
        "print(f\"lech - okocim: stat={stat1} p={p1}\")\n",
        "print(f\"fanta - regionalne: stat={stat2} p={p2}\")\n",
        "print(f\"cola - pepsi: stat={stat3} p={p3}\")"
      ],
      "execution_count": null,
      "outputs": [
        {
          "output_type": "stream",
          "name": "stdout",
          "text": [
            "lech - okocim: stat=-0.8323919685480173 p=0.4057078093583595\n",
            "fanta - regionalne: stat=-11.013919429372727 p=1.097001288015355e-24\n",
            "cola - pepsi: stat=145.61815604546564 p=0.0\n"
          ]
        }
      ]
    },
    {
      "cell_type": "markdown",
      "metadata": {
        "id": "oiL8U1viCZFE"
      },
      "source": [
        "Zad 5"
      ]
    },
    {
      "cell_type": "code",
      "metadata": {
        "colab": {
          "base_uri": "https://localhost:8080/"
        },
        "id": "wS3d3mM4_QFr",
        "outputId": "c19004a9-2912-4287-a8e5-f85138e9cc2f"
      },
      "source": [
        "from scipy.stats import levene\n",
        "stat1, p1=levene(df['okocim'],df['lech']) #okocim – lech\n",
        "stat2, p2=levene(df['żywiec'],df['fanta ']) #żywiec – fanta\n",
        "stat3, p3=levene(df['regionalne'],df['cola']) #regionalne – cola\n",
        "\n",
        "print(f\"okocim - lech: stat={stat1} p={p1}\")\n",
        "print(f\"żywiec - fanta: stat={stat2} p={p2}\")\n",
        "print(f\"regionalne - cola: stat={stat3} p={p3}\")"
      ],
      "execution_count": null,
      "outputs": [
        {
          "output_type": "stream",
          "name": "stdout",
          "text": [
            "okocim - lech: stat=1.191182232831977 p=0.2757791126546958\n",
            "żywiec - fanta: stat=1.4760992846958803 p=0.2251362462983421\n",
            "regionalne - cola: stat=83.85984593010029 p=3.275749775904902e-18\n"
          ]
        }
      ]
    },
    {
      "cell_type": "markdown",
      "metadata": {
        "id": "rM6ciO51DB87"
      },
      "source": [
        "Zad 6"
      ]
    },
    {
      "cell_type": "code",
      "metadata": {
        "colab": {
          "base_uri": "https://localhost:8080/"
        },
        "id": "QEorVJypDDeS",
        "outputId": "167c9c37-c473-4fa0-c729-8cf71d9722e5"
      },
      "source": [
        "\n",
        "tmp = df[[\"rok\",\"regionalne\"]]\n",
        "regio2001=tmp.loc[tmp[\"rok\"]==2001]\n",
        "regio2015=tmp.loc[tmp[\"rok\"]==2015]\n",
        "stat,p = ttest_ind(regio2001['regionalne'],regio2015['regionalne'])\n",
        "print(stat,p)"
      ],
      "execution_count": null,
      "outputs": [
        {
          "output_type": "stream",
          "name": "stdout",
          "text": [
            "-3.597778058271827 0.0016000242362201897\n"
          ]
        }
      ]
    },
    {
      "cell_type": "markdown",
      "metadata": {
        "id": "kA1XsjdsOmXa"
      },
      "source": [
        "Zad 7"
      ]
    },
    {
      "cell_type": "code",
      "metadata": {
        "colab": {
          "base_uri": "https://localhost:8080/"
        },
        "id": "MSi6syjXOkvC",
        "outputId": "2d270a46-3237-4f73-b208-b6ce4b837eae"
      },
      "source": [
        "df1 = df.loc[df['rok']==2016]\n",
        "print(df1.head(12),'\\n')\n",
        "df2 = pd.read_csv(\"/napoje_po_reklamie.csv\",sep=\";\")\n",
        "print(df2.head(12),'\\n')\n",
        "\n",
        "df1 = df1[['cola','fanta ','pepsi']]\n",
        "df2 = df2[['cola','fanta ','pepsi']]\n",
        "\n",
        "\n",
        "  \n",
        "print(df1)\n",
        "print(df2)\n",
        "stat,p = ttest_ind(df1,df2)\n",
        "print(f\"stat:{stat} p:{p}\")"
      ],
      "execution_count": null,
      "outputs": [
        {
          "output_type": "stream",
          "name": "stdout",
          "text": [
            "     mies   rok   pepsi  fanta   żywiec  okocim  regionalne    cola   lech\n",
            "180     1  2016  102040   39116  181501   60207       52287  228359  51376\n",
            "181     2  2016  109322   38667  182152   58008       44836  231114  62084\n",
            "182     3  2016  108039   48108  179221   54359       48474  199815  53312\n",
            "183     4  2016  113002   41721  179037   64655       49260  221944  66103\n",
            "184     5  2016  109590   48840  177932   61260       54271  219085  61867\n",
            "185     6  2016  105666   41023  175298   63966       60592  235575  56194\n",
            "186     7  2016  111811   39667  170174   67012       54146  223126  61038\n",
            "187     8  2016  105949   43017  169329   64262       58101  222531  58037\n",
            "188     9  2016  103420   44310  173923   67591       44565  230270  65156\n",
            "189    10  2016  120363   50688  175856   63791       51376  247155  59276\n",
            "190    11  2016  101215   41924  175914   62570       59505  240524  61765\n",
            "191    12  2016  114300   42314  178209   65923       58508  223129  68106 \n",
            "\n",
            "    mies   pepsi  fanta   żywiec  okocim  regionalne    cola   lech\n",
            "0      1  119110   41386  186272   64398       55561  215468  68673\n",
            "1      2  107424   45669  178564   61847       48793  233941  68483\n",
            "2      3  105748   47373  183368   53390       63907  229677  63300\n",
            "3      4  115377   39395  184326   60062       58531  234246  61943\n",
            "4      5  103003   42477  182190   63736       51395  219392  64189\n",
            "5      6  102809   47224  183115   52596       55149  219600  63343\n",
            "6      7  106890   45185  184858   54457       52977  225857  63466\n",
            "7      8  103613   38748  185559   61437       61143  226311  68841\n",
            "8      9  112709   34145  186496   62945       59051  232491  65195\n",
            "9     10  112780   37407  182187   67979       60212  235802  57058\n",
            "10    11  113206   51504  191763   61462       55311  221554  54589\n",
            "11    12  107777   41005  183566   62182       64720  223153  56674 \n",
            "\n",
            "       cola  fanta    pepsi\n",
            "180  228359   39116  102040\n",
            "181  231114   38667  109322\n",
            "182  199815   48108  108039\n",
            "183  221944   41721  113002\n",
            "184  219085   48840  109590\n",
            "185  235575   41023  105666\n",
            "186  223126   39667  111811\n",
            "187  222531   43017  105949\n",
            "188  230270   44310  103420\n",
            "189  247155   50688  120363\n",
            "190  240524   41924  101215\n",
            "191  223129   42314  114300\n",
            "      cola  fanta    pepsi\n",
            "0   215468   41386  119110\n",
            "1   233941   45669  107424\n",
            "2   229677   47373  105748\n",
            "3   234246   39395  115377\n",
            "4   219392   42477  103003\n",
            "5   219600   47224  102809\n",
            "6   225857   45185  106890\n",
            "7   226311   38748  103613\n",
            "8   232491   34145  112709\n",
            "9   235802   37407  112780\n",
            "10  221554   51504  113206\n",
            "11  223153   41005  107777\n",
            "stat:[ 0.10798149  0.3598065  -0.21470683] p:[0.91498914 0.72242279 0.83197366]\n"
          ]
        }
      ]
    }
  ]
}