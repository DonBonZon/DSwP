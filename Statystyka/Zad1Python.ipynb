{
  "nbformat": 4,
  "nbformat_minor": 0,
  "metadata": {
    "colab": {
      "name": "Untitled1.ipynb",
      "provenance": [],
      "collapsed_sections": []
    },
    "kernelspec": {
      "name": "python3",
      "display_name": "Python 3"
    },
    "language_info": {
      "name": "python"
    }
  },
  "cells": [
    {
      "cell_type": "markdown",
      "metadata": {
        "id": "rYSnSSauWlTW"
      },
      "source": [
        "**Python zad 1**"
      ]
    },
    {
      "cell_type": "code",
      "metadata": {
        "colab": {
          "base_uri": "https://localhost:8080/"
        },
        "id": "1xha7o2HQH6I",
        "outputId": "33ec7ef9-f060-4db8-f6f5-26455690e64f"
      },
      "source": [
        "import numpy as np\n",
        "import pandas as pd\n",
        "\n",
        "from scipy.stats import scoreatpercentile\n",
        "\n",
        "data = pd.read_csv(\"/content/MDR_RR_TB_burden_estimates_2021-10-07.csv\") #loading data \n",
        "print(data)"
      ],
      "execution_count": null,
      "outputs": [
        {
          "output_type": "stream",
          "name": "stdout",
          "text": [
            "                       country  ... e_rr_in_notified_labconf_pulm_hi\n",
            "0                  Afghanistan  ...                           1300.0\n",
            "1                      Albania  ...                             11.0\n",
            "2                      Algeria  ...                            260.0\n",
            "3               American Samoa  ...                              2.0\n",
            "4                      Andorra  ...                              4.0\n",
            "..                         ...  ...                              ...\n",
            "210                   Viet Nam  ...                           3200.0\n",
            "211  Wallis and Futuna Islands  ...                              1.0\n",
            "212                      Yemen  ...                            140.0\n",
            "213                     Zambia  ...                            870.0\n",
            "214                   Zimbabwe  ...                            450.0\n",
            "\n",
            "[215 rows x 27 columns]\n"
          ]
        }
      ]
    },
    {
      "cell_type": "code",
      "metadata": {
        "colab": {
          "base_uri": "https://localhost:8080/"
        },
        "id": "5LtqjTk1Tcny",
        "outputId": "01713ea5-cebd-4ba3-ec06-97c8734e9715"
      },
      "source": [
        "column = data[\"e_rr_pct_new_lo\"] #extracting single column\n",
        "print(column)"
      ],
      "execution_count": null,
      "outputs": [
        {
          "output_type": "stream",
          "name": "stdout",
          "text": [
            "0      1.10\n",
            "1      0.64\n",
            "2      1.20\n",
            "3      0.00\n",
            "4      0.00\n",
            "       ... \n",
            "210    3.40\n",
            "211    0.00\n",
            "212    1.10\n",
            "213    2.20\n",
            "214    2.70\n",
            "Name: e_rr_pct_new_lo, Length: 215, dtype: float64\n"
          ]
        }
      ]
    },
    {
      "cell_type": "code",
      "metadata": {
        "colab": {
          "base_uri": "https://localhost:8080/"
        },
        "id": "OHs-65McUMOa",
        "outputId": "b6a10f33-3486-47bd-c200-d6720bc0b4c3"
      },
      "source": [
        "print(\"Maks:\", column.max())\n",
        "print(\"Maks, funkcja:\", np.max(column))\n",
        "print(\"Min:\", column.min())\n",
        "print(\"Min, funkcja:\", np.min(column))\n",
        "print(\"Średnia:\", column.mean())\n",
        "print(\"Średnia, funkcja:\", np.mean(column))\n",
        "print(\"Odchylenie standardowe:\", column.std())\n",
        "print(\"Odchylenie standardowe, funkcja:\", np.std(column))\n",
        "print(\"Mediana:\", np.median(column))\n",
        "print(\"Wartość na 50 procencie:\", scoreatpercentile(column, 50))"
      ],
      "execution_count": null,
      "outputs": [
        {
          "output_type": "stream",
          "name": "stdout",
          "text": [
            "Maks: 35.0\n",
            "Maks, funkcja: 35.0\n",
            "Min: 0.0\n",
            "Min, funkcja: 0.0\n",
            "Średnia: 2.438790697674418\n",
            "Średnia, funkcja: 2.438790697674418\n",
            "Odchylenie standardowe: 5.628021384019296\n",
            "Odchylenie standardowe, funkcja: 5.614917707604383\n",
            "Mediana: 0.89\n",
            "Wartość na 50 procencie: 0.89\n"
          ]
        }
      ]
    },
    {
      "cell_type": "markdown",
      "metadata": {
        "id": "McD7uHLuWtQx"
      },
      "source": [
        "**Python zad 2**"
      ]
    },
    {
      "cell_type": "code",
      "metadata": {
        "colab": {
          "base_uri": "https://localhost:8080/"
        },
        "id": "arLLJpOgWTuD",
        "outputId": "e99edc07-e80f-4c6c-fb65-43f8e17841fe"
      },
      "source": [
        "wzrost = pd.read_csv(\"/content/Wzrost.csv\") #loading data \n",
        "print(wzrost)"
      ],
      "execution_count": null,
      "outputs": [
        {
          "output_type": "stream",
          "name": "stdout",
          "text": [
            "Empty DataFrame\n",
            "Columns: [156, 158, 167, 188, 197, 167.1, 197.1, 178, 186, 157, 198, 199, 178.1, 168, 156.1, 151, 167.2, 167.3]\n",
            "Index: []\n"
          ]
        }
      ]
    },
    {
      "cell_type": "code",
      "metadata": {
        "colab": {
          "base_uri": "https://localhost:8080/"
        },
        "id": "u_tdfM4kYJCl",
        "outputId": "1906f7fe-f4e1-40a9-8794-54bf1fd943cb"
      },
      "source": [
        "from statistics import median_high,median_low,pvariance,variance,pstdev,stdev,mode\n",
        "from scipy.stats import kurtosis,skew,describe\n",
        "\n",
        "wzrost = [float(i) for i in wzrost] # casting list values from string to float\n",
        "\n",
        "print(\"Gorna granica mediany:\", median_high(wzrost))\n",
        "print(\"Dolna granica mediany:\", median_low(wzrost))\n",
        "#print(\"Najczesciej wystepujaca wartosc:\", mode(wzrost)) does not work in google colab, but on destktop it does\n",
        "print(\"wariancja:\", pvariance(wzrost))\n",
        "print(\"wariancja:\", variance(wzrost))\n",
        "print(\"odchylenie standardowe:\", pstdev(wzrost))\n",
        "print(\"odchylenie standardowe:\", stdev(wzrost))\n",
        "\n",
        "# Wariancja jest to odchylenie standardowe podniesione do kwadratu."
      ],
      "execution_count": null,
      "outputs": [
        {
          "output_type": "stream",
          "name": "stdout",
          "text": [
            "Gorna granica mediany: 168.0\n",
            "Dolna granica mediany: 167.3\n",
            "wariancja: 254.31805555555556\n",
            "wariancja: 269.27794117647056\n",
            "odchylenie standardowe: 15.947352619026004\n",
            "odchylenie standardowe: 16.409690465589854\n"
          ]
        }
      ]
    },
    {
      "cell_type": "markdown",
      "metadata": {
        "id": "1t0Ju_NVhuEa"
      },
      "source": [
        "**Python zad 3**"
      ]
    },
    {
      "cell_type": "code",
      "metadata": {
        "colab": {
          "base_uri": "https://localhost:8080/"
        },
        "id": "2N805oauhxLl",
        "outputId": "39cd45d6-0b51-4982-bf0d-51193f5c65a6"
      },
      "source": [
        "import seaborn as sns\n",
        "df = sns.load_dataset('titanic')\n",
        "print(df)"
      ],
      "execution_count": null,
      "outputs": [
        {
          "output_type": "stream",
          "name": "stdout",
          "text": [
            "     survived  pclass     sex   age  ...  deck  embark_town  alive  alone\n",
            "0           0       3    male  22.0  ...   NaN  Southampton     no  False\n",
            "1           1       1  female  38.0  ...     C    Cherbourg    yes  False\n",
            "2           1       3  female  26.0  ...   NaN  Southampton    yes   True\n",
            "3           1       1  female  35.0  ...     C  Southampton    yes  False\n",
            "4           0       3    male  35.0  ...   NaN  Southampton     no   True\n",
            "..        ...     ...     ...   ...  ...   ...          ...    ...    ...\n",
            "886         0       2    male  27.0  ...   NaN  Southampton     no   True\n",
            "887         1       1  female  19.0  ...     B  Southampton    yes   True\n",
            "888         0       3  female   NaN  ...   NaN  Southampton     no  False\n",
            "889         1       1    male  26.0  ...     C    Cherbourg    yes   True\n",
            "890         0       3    male  32.0  ...   NaN   Queenstown     no   True\n",
            "\n",
            "[891 rows x 15 columns]\n"
          ]
        }
      ]
    },
    {
      "cell_type": "code",
      "metadata": {
        "colab": {
          "base_uri": "https://localhost:8080/"
        },
        "id": "jKXmG2Rji-E0",
        "outputId": "f9070c19-4bc6-4a11-ed63-f5df23a9be81"
      },
      "source": [
        "from scipy.stats import describe\n",
        "ages = [i for i in df['age'] if pd.isnull(i)==False] #extract ages and remove empty values\n",
        "\n",
        "print(\"Opis: \", describe(ages))\n",
        "# Dodatkowe statystyki: https://docs.scipy.org/doc/scipy/reference/reference/stats.html"
      ],
      "execution_count": null,
      "outputs": [
        {
          "output_type": "stream",
          "name": "stdout",
          "text": [
            "Opis:  DescribeResult(nobs=714, minmax=(0.42, 80.0), mean=29.69911764705882, variance=211.01912474630805, skewness=0.3882898514698657, kurtosis=0.16863657224286044)\n"
          ]
        }
      ]
    },
    {
      "cell_type": "markdown",
      "metadata": {
        "id": "EbCWmGYalfuy"
      },
      "source": [
        "**Python zad 4**"
      ]
    },
    {
      "cell_type": "code",
      "metadata": {
        "colab": {
          "base_uri": "https://localhost:8080/"
        },
        "id": "qVM2aOecli2s",
        "outputId": "635a07ca-51cd-4e44-9a24-89a579e9947f"
      },
      "source": [
        "df = pd.read_csv(\"/content/brain_size.csv\", sep=\";\")\n",
        "print(df)"
      ],
      "execution_count": null,
      "outputs": [
        {
          "output_type": "stream",
          "name": "stdout",
          "text": [
            "    Unnamed: 0  Gender  FSIQ  VIQ  PIQ Weight Height  MRI_Count\n",
            "0            1  Female   133  132  124    118   64.5     816932\n",
            "1            2    Male   140  150  124      .   72.5    1001121\n",
            "2            3    Male   139  123  150    143   73.3    1038437\n",
            "3            4    Male   133  129  128    172   68.8     965353\n",
            "4            5  Female   137  132  134    147   65.0     951545\n",
            "5            6  Female    99   90  110    146   69.0     928799\n",
            "6            7  Female   138  136  131    138   64.5     991305\n",
            "7            8  Female    92   90   98    175   66.0     854258\n",
            "8            9    Male    89   93   84    134   66.3     904858\n",
            "9           10    Male   133  114  147    172   68.8     955466\n",
            "10          11  Female   132  129  124    118   64.5     833868\n",
            "11          12    Male   141  150  128    151   70.0    1079549\n",
            "12          13    Male   135  129  124    155   69.0     924059\n",
            "13          14  Female   140  120  147    155   70.5     856472\n",
            "14          15  Female    96  100   90    146   66.0     878897\n",
            "15          16  Female    83   71   96    135   68.0     865363\n",
            "16          17  Female   132  132  120    127   68.5     852244\n",
            "17          18    Male   100   96  102    178   73.5     945088\n",
            "18          19  Female   101  112   84    136   66.3     808020\n",
            "19          20    Male    80   77   86    180   70.0     889083\n",
            "20          21    Male    83   83   86      .      .     892420\n",
            "21          22    Male    97  107   84    186   76.5     905940\n",
            "22          23  Female   135  129  134    122   62.0     790619\n",
            "23          24    Male   139  145  128    132   68.0     955003\n",
            "24          25  Female    91   86  102    114   63.0     831772\n",
            "25          26    Male   141  145  131    171   72.0     935494\n",
            "26          27  Female    85   90   84    140   68.0     798612\n",
            "27          28    Male   103   96  110    187   77.0    1062462\n",
            "28          29  Female    77   83   72    106   63.0     793549\n",
            "29          30  Female   130  126  124    159   66.5     866662\n",
            "30          31  Female   133  126  132    127   62.5     857782\n",
            "31          32    Male   144  145  137    191   67.0     949589\n",
            "32          33    Male   103   96  110    192   75.5     997925\n",
            "33          34    Male    90   96   86    181   69.0     879987\n",
            "34          35  Female    83   90   81    143   66.5     834344\n",
            "35          36  Female   133  129  128    153   66.5     948066\n",
            "36          37    Male   140  150  124    144   70.5     949395\n",
            "37          38  Female    88   86   94    139   64.5     893983\n",
            "38          39    Male    81   90   74    148   74.0     930016\n",
            "39          40    Male    89   91   89    179   75.5     935863\n"
          ]
        }
      ]
    },
    {
      "cell_type": "code",
      "metadata": {
        "colab": {
          "base_uri": "https://localhost:8080/"
        },
        "id": "XbY2D9TTmggD",
        "outputId": "fcb75999-b3bc-4a04-e204-18760a2fab19"
      },
      "source": [
        "print(\"Srednia VIQ: \",np.mean(df['VIQ']))\n",
        "for gender,val in df.groupby('Gender')['Gender']:\n",
        "  print(gender,\"count:\",val.count())"
      ],
      "execution_count": null,
      "outputs": [
        {
          "output_type": "stream",
          "name": "stdout",
          "text": [
            "Srednia VIQ:  112.35\n",
            "Female count: 20\n",
            "Male count: 20\n"
          ]
        }
      ]
    },
    {
      "cell_type": "code",
      "metadata": {
        "colab": {
          "base_uri": "https://localhost:8080/",
          "height": 613
        },
        "id": "OCipHBecsdpj",
        "outputId": "6de5d269-f047-4485-9878-27cf8274cc9c"
      },
      "source": [
        "import matplotlib.pyplot as plt\n",
        "from pandas import plotting\n",
        "\n",
        "plt.figure(1)\n",
        "plt.subplot(1,3,1)\n",
        "plt.title(\"VIQ\")\n",
        "plt.hist(df['VIQ'])\n",
        "\n",
        "\n",
        "plt.subplot(1,3,2)\n",
        "plt.title(\"PIQ\")\n",
        "plt.hist(df['PIQ'])\n",
        "\n",
        "\n",
        "plt.subplot(1,3,3)\n",
        "plt.title(\"FSIQ\")\n",
        "plt.hist(df['FSIQ'])\n",
        "\n",
        "females = df.loc[df['Gender']==\"Female\"]\n",
        "plt.figure(2)\n",
        "plt.subplot(1,3,1)\n",
        "plt.title(\"FEMALE VIQ\")\n",
        "plt.hist(females['VIQ'])\n",
        "\n",
        "plt.subplot(1,3,2)\n",
        "plt.title(\"FEMALE PIQ\")\n",
        "plt.hist(females['PIQ'])\n",
        "\n",
        "plt.subplot(1,3,3)\n",
        "plt.title(\"FEMALE FSIQ\")\n",
        "plt.hist(females['FSIQ'])"
      ],
      "execution_count": null,
      "outputs": [
        {
          "output_type": "execute_result",
          "data": {
            "text/plain": [
              "(array([3., 2., 2., 3., 0., 0., 0., 0., 6., 4.]),\n",
              " array([ 77. ,  83.3,  89.6,  95.9, 102.2, 108.5, 114.8, 121.1, 127.4,\n",
              "        133.7, 140. ]),\n",
              " <a list of 10 Patch objects>)"
            ]
          },
          "metadata": {},
          "execution_count": 108
        },
        {
          "output_type": "display_data",
          "data": {
            "image/png": "[encoded data removed]",
            "text/plain": [
              "<Figure size 432x288 with 3 Axes>"
            ]
          },
          "metadata": {
            "needs_background": "light"
          }
        },
        {
          "output_type": "display_data",
          "data": {
            "image/png": "[encoded data removed]",
            "text/plain": [
              "<Figure size 432x288 with 3 Axes>"
            ]
          },
          "metadata": {
            "needs_background": "light"
          }
        }
      ]
    }
  ]
}