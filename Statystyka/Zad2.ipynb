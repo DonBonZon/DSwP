{
  "nbformat": 4,
  "nbformat_minor": 0,
  "metadata": {
    "colab": {
      "name": "Untitled15.ipynb",
      "provenance": [],
      "collapsed_sections": []
    },
    "kernelspec": {
      "name": "python3",
      "display_name": "Python 3"
    },
    "language_info": {
      "name": "python"
    }
  },
  "cells": [
    {
      "cell_type": "markdown",
      "metadata": {
        "id": "MtjhIax57LtW"
      },
      "source": [
        "Zad 1"
      ]
    },
    {
      "cell_type": "code",
      "metadata": {
        "colab": {
          "base_uri": "https://localhost:8080/"
        },
        "id": "Z-i6yYFI4o2n",
        "outputId": "8f19c1d0-5195-41ae-8d6e-e145714e5707"
      },
      "source": [
        "from random import randint\n",
        "import statistics\n",
        "from scipy.stats import kurtosis, skew\n",
        "def generateValues(n):\n",
        "  result = []\n",
        "  for i in range(n):\n",
        "    result.append(randint(1,6))\n",
        "  return result\n",
        "\n",
        "data = generateValues(10)\n",
        "print(data)\n",
        "print(f\"Srednia: {statistics.mean(data)}\")\n",
        "print(f\"wariancja: {statistics.variance(data)}\")\n",
        "print(f\"kurtoza : {kurtosis(data)}\")\n",
        "print(f\"skośność : {skew(data)}\")\n"
      ],
      "execution_count": 1,
      "outputs": [
        {
          "output_type": "stream",
          "name": "stdout",
          "text": [
            "[6, 3, 6, 4, 2, 1, 3, 1, 5, 4]\n",
            "Srednia: 3.5\n",
            "wariancja: 3.388888888888889\n",
            "kurtoza : -1.2088148347218486\n",
            "skośność : 0.0\n"
          ]
        }
      ]
    },
    {
      "cell_type": "markdown",
      "metadata": {
        "id": "j7UK28dI7NdZ"
      },
      "source": [
        "Zad 2 i 3"
      ]
    },
    {
      "cell_type": "code",
      "metadata": {
        "colab": {
          "base_uri": "https://localhost:8080/"
        },
        "id": "PhF2_mBF7OMT",
        "outputId": "485c96d4-6e2c-4f35-9da0-ae232fc1f091"
      },
      "source": [
        "from scipy.stats import bernoulli,poisson,binom\n",
        "\n",
        "n=100\n",
        "p=0.5\n",
        "mu=6\n",
        "\n",
        "bernoulliData = bernoulli.rvs(p=p, size=n)\n",
        "poisonData = poisson.rvs(mu=mu,size=n)\n",
        "binomData = binom.rvs(p=0.5,n=n,size=n)\n",
        "\n",
        "print(\"bernoulli\")\n",
        "print(bernoulliData)\n",
        "print(f\"Srednia: {statistics.mean(bernoulliData)}\")\n",
        "print(f\"wariancja: {statistics.variance(bernoulliData)}\")\n",
        "print(f\"kurtoza : {kurtosis(bernoulliData)}\")\n",
        "print(f\"skośność : {skew(bernoulliData)}\")\n",
        "print(\"\\npoison\")\n",
        "print(poisonData)\n",
        "print(f\"Srednia: {statistics.mean(poisonData)}\")\n",
        "print(f\"wariancja: {statistics.variance(poisonData)}\")\n",
        "print(f\"kurtoza : {kurtosis(poisonData)}\")\n",
        "print(f\"skośność : {skew(poisonData)}\")\n",
        "print(\"\\nbinom\")\n",
        "print(binomData)\n",
        "print(f\"Srednia: {statistics.mean(binomData)}\")\n",
        "print(f\"wariancja: {statistics.variance(binomData)}\")\n",
        "print(f\"kurtoza : {kurtosis(binomData)}\")\n",
        "print(f\"skośność : {skew(binomData)}\")"
      ],
      "execution_count": 2,
      "outputs": [
        {
          "output_type": "stream",
          "name": "stdout",
          "text": [
            "bernoulli\n",
            "[1 1 0 1 0 1 0 1 1 0 1 0 0 0 0 1 1 1 1 1 1 1 0 1 0 0 1 0 1 1 0 1 0 1 1 0 1\n",
            " 0 0 0 0 1 1 1 1 0 0 0 0 0 0 0 1 0 1 1 1 0 1 1 1 1 1 0 0 0 1 1 0 0 1 0 0 0\n",
            " 0 0 0 0 1 0 1 0 0 0 1 1 1 1 1 1 1 0 1 1 1 0 0 1 1 1]\n",
            "Srednia: 0\n",
            "wariancja: 0\n",
            "kurtoza : -1.9855479727017253\n",
            "skośność : -0.12021658495512938\n",
            "\n",
            "poison\n",
            "[ 4  5  8  3  4  3  6 10  8  7  5  7  4  9 10  7  3  5  7  3  8  7  2  2\n",
            "  9  4  5  5  4  7  5  5  9  3  7  6  7  5 10  9  4  3  8  4  6  4  5  8\n",
            "  6  9  2  5  6  7  6  6  8 10  4  4  6  2 12  2  8  2  4  5  9  3  3 14\n",
            "  7 11  4  4  6  6 10 13 11  5  4 10  6  4  8  6  4 11  6  4  4  8  3  5\n",
            "  5  6  6  2]\n",
            "Srednia: 6\n",
            "wariancja: 7\n",
            "kurtoza : -0.00802133589058096\n",
            "skośność : 0.6515247770501459\n",
            "\n",
            "binom\n",
            "[47 48 53 46 40 46 51 54 55 51 53 50 56 52 58 52 51 46 45 49 58 50 54 43\n",
            " 40 40 55 52 54 62 46 43 47 41 55 57 47 55 51 54 47 55 54 50 43 46 47 44\n",
            " 51 46 47 50 45 44 56 47 55 43 50 51 51 57 46 56 39 50 52 40 47 53 43 48\n",
            " 59 46 46 57 54 47 44 49 51 47 48 58 50 60 50 48 51 50 48 51 53 54 52 47\n",
            " 47 48 54 49]\n",
            "Srednia: 49\n",
            "wariancja: 24\n",
            "kurtoza : -0.42095665929626014\n",
            "skośność : 0.004083807488120082\n"
          ]
        }
      ]
    },
    {
      "cell_type": "markdown",
      "metadata": {
        "id": "uJB-z0n4vU6N"
      },
      "source": [
        "Zad 4"
      ]
    },
    {
      "cell_type": "code",
      "metadata": {
        "colab": {
          "base_uri": "https://localhost:8080/",
          "height": 483
        },
        "id": "V_g0K2VcFCrM",
        "outputId": "248fabfc-e5b7-4d06-b5f5-d441fbbba657"
      },
      "source": [
        "import numpy as np\n",
        "import matplotlib.pyplot as plt\n",
        "\n",
        "\n",
        "fig, (ax1, ax2, ax3) = plt.subplots(3)\n",
        "fig.set_size_inches(8,8)\n",
        "\n",
        "x = np.arange(bernoulli.ppf(0.01, p), bernoulli.ppf(0.99, p))\n",
        "rv =bernoulli(p)\n",
        "ax1.vlines(x, 0, rv.pmf(x), colors='k', linestyles='-', lw=1, label='frozen pmf')\n",
        "x = np.arange(binom.ppf(0.01, n, p), binom.ppf(0.99, n, p))\n",
        "rv = binom(n, p)\n",
        "ax2.vlines(x, 0, rv.pmf(x), colors='k', linestyles='-', lw=1, label='frozen pmf')\n",
        "x = np.arange(poisson.ppf(0.01, mu), poisson.ppf(0.99, mu))\n",
        "rv = poisson(mu)\n",
        "ax3.vlines(x, 0, rv.pmf(x), colors='b', linestyles='-', lw=1, label='frozen pmf')\n",
        "plt.show()"
      ],
      "execution_count": 12,
      "outputs": [
        {
          "output_type": "display_data",
          "data": {
            "image/png": "[encoded data removed]",
            "text/plain": [
              "<Figure size 576x576 with 3 Axes>"
            ]
          },
          "metadata": {
            "needs_background": "light"
          }
        }
      ]
    },
    {
      "cell_type": "markdown",
      "metadata": {
        "id": "OxHECYSQyqll"
      },
      "source": [
        "Zad 5"
      ]
    },
    {
      "cell_type": "code",
      "metadata": {
        "colab": {
          "base_uri": "https://localhost:8080/"
        },
        "id": "azM7A7Kzyshr",
        "outputId": "6187dbb5-5fb7-4f56-e6e6-d999c4fff728"
      },
      "source": [
        "n = 20\n",
        "k = list(range(21))\n",
        "p = 0.4\n",
        "data = binom.pmf(n=n,p=p,k=k)\n",
        "print(sum(data))"
      ],
      "execution_count": 20,
      "outputs": [
        {
          "output_type": "stream",
          "name": "stdout",
          "text": [
            "0.9999999999999986\n"
          ]
        }
      ]
    },
    {
      "cell_type": "markdown",
      "metadata": {
        "id": "pO6ANylf04gm"
      },
      "source": [
        "Zad 6"
      ]
    },
    {
      "cell_type": "code",
      "metadata": {
        "colab": {
          "base_uri": "https://localhost:8080/"
        },
        "id": "tqkVvpd107ew",
        "outputId": "47cd30c9-4adc-4fbe-afd0-e233d18b9cea"
      },
      "source": [
        "from scipy.stats import norm\n",
        "normDistr = norm.rvs(loc=0, scale=2, size=100)\n",
        "print(f\"Ilosc elementow: {len(normDistr)}\")\n",
        "print(f\"Srednia: {statistics.mean(normDistr)}\")\n",
        "print(f\"wariancja: {statistics.variance(normDistr)}\")\n",
        "print(f\"kurtoza : {kurtosis(normDistr)}\")\n",
        "print(f\"skośność : {skew(normDistr)}\")\n",
        "\n",
        "normDistr = norm.rvs(loc=0, scale=2, size=100000)\n",
        "print(f\"\\nIlosc elementow: {len(normDistr)}\")\n",
        "print(f\"Srednia: {statistics.mean(normDistr)}\")\n",
        "print(f\"wariancja: {statistics.variance(normDistr)}\")\n",
        "print(f\"kurtoza : {kurtosis(normDistr)}\")\n",
        "print(f\"skośność : {skew(normDistr)}\")"
      ],
      "execution_count": 30,
      "outputs": [
        {
          "output_type": "stream",
          "name": "stdout",
          "text": [
            "Ilosc elementow: 100\n",
            "Srednia: 0.42727566914842025\n",
            "wariancja: 4.832031768050816\n",
            "kurtoza : 0.05633662047311061\n",
            "skośność : 0.18454285594090364\n",
            "\n",
            "Ilosc elementow: 100000\n",
            "Srednia: 0.004910103281407549\n",
            "wariancja: 4.0161763030776525\n",
            "kurtoza : 0.018430211556276888\n",
            "skośność : 0.015281081762271127\n"
          ]
        }
      ]
    },
    {
      "cell_type": "markdown",
      "metadata": {
        "id": "CkPGB1mq4X0-"
      },
      "source": [
        "Zad 7"
      ]
    },
    {
      "cell_type": "code",
      "metadata": {
        "colab": {
          "base_uri": "https://localhost:8080/",
          "height": 336
        },
        "id": "paeuqCB94WDq",
        "outputId": "1338291e-3f67-45f7-da77-8d345178e7ae"
      },
      "source": [
        "import seaborn as sns\n",
        "\n",
        "norm1 = norm.rvs(loc=1, scale=2, size=100)\n",
        "norm2 = norm.rvs(loc=-1, scale=0.5, size=100)\n",
        "\n",
        "sns.histplot(data=norm1)\n",
        "sns.lineplot(np.linspace(norm.ppf(0.01), norm.ppf(0.99), 100),norm.pdf(x),color=\"red\")\n",
        "sns.kdeplot(norm2,color=\"yellow\")"
      ],
      "execution_count": 71,
      "outputs": [
        {
          "output_type": "stream",
          "name": "stderr",
          "text": [
            "/usr/local/lib/python3.7/dist-packages/seaborn/_decorators.py:43: FutureWarning: Pass the following variables as keyword args: x, y. From version 0.12, the only valid positional argument will be `data`, and passing other arguments without an explicit keyword will result in an error or misinterpretation.\n",
            "  FutureWarning\n"
          ]
        },
        {
          "output_type": "execute_result",
          "data": {
            "text/plain": [
              "<matplotlib.axes._subplots.AxesSubplot at 0x7f25b8b83850>"
            ]
          },
          "metadata": {},
          "execution_count": 71
        },
        {
          "output_type": "display_data",
          "data": {
            "image/png": "[encoded data removed]",
            "text/plain": [
              "<Figure size 432x288 with 1 Axes>"
            ]
          },
          "metadata": {}
        }
      ]
    }
  ]
}