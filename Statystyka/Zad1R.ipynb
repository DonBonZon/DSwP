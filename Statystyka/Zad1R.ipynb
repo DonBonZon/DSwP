{
  "nbformat": 4,
  "nbformat_minor": 0,
  "metadata": {
    "colab": {
      "name": "Untitled2.ipynb",
      "provenance": [],
      "collapsed_sections": []
    },
    "kernelspec": {
      "name": "python3",
      "display_name": "Python 3"
    },
    "language_info": {
      "name": "python"
    }
  },
  "cells": [
    {
      "cell_type": "code",
      "metadata": {
        "id": "JUgf3_FHxCcE"
      },
      "source": [
        "%load_ext rpy2.ipython"
      ],
      "execution_count": 1,
      "outputs": []
    },
    {
      "cell_type": "markdown",
      "metadata": {
        "id": "UhPuWPqhXWE6"
      },
      "source": [
        "**R Zad 1**"
      ]
    },
    {
      "cell_type": "code",
      "metadata": {
        "colab": {
          "base_uri": "https://localhost:8080/"
        },
        "id": "VHUSDLoLxe03",
        "outputId": "6c487b36-0e35-4ba1-8ab1-61946c45ccf8"
      },
      "source": [
        "%%R\n",
        "data <- read.csv(\"/content/napoje_po_reklamie.csv\", sep=\";\")\n",
        "print(data)\n",
        "summary(data)"
      ],
      "execution_count": 14,
      "outputs": [
        {
          "output_type": "stream",
          "name": "stdout",
          "text": [
            "   mies  pepsi fanta zywiec okocim regionalne   cola  lech\n",
            "1     1 119110 41386 186272  64398      55561 215468 68673\n",
            "2     2 107424 45669 178564  61847      48793 233941 68483\n",
            "3     3 105748 47373 183368  53390      63907 229677 63300\n",
            "4     4 115377 39395 184326  60062      58531 234246 61943\n",
            "5     5 103003 42477 182190  63736      51395 219392 64189\n",
            "6     6 102809 47224 183115  52596      55149 219600 63343\n",
            "7     7 106890 45185 184858  54457      52977 225857 63466\n",
            "8     8 103613 38748 185559  61437      61143 226311 68841\n",
            "9     9 112709 34145 186496  62945      59051 232491 65195\n",
            "10   10 112780 37407 182187  67979      60212 235802 57058\n",
            "11   11 113206 51504 191763  61462      55311 221554 54589\n",
            "12   12 107777 41005 183566  62182      64720 223153 56674\n",
            "      mies           pepsi            fanta           zywiec      \n",
            " Min.   : 1.00   Min.   :102809   Min.   :34145   Min.   :178564  \n",
            " 1st Qu.: 3.75   1st Qu.:105214   1st Qu.:39233   1st Qu.:182884  \n",
            " Median : 6.50   Median :107600   Median :41932   Median :183946  \n",
            " Mean   : 6.50   Mean   :109204   Mean   :42626   Mean   :184355  \n",
            " 3rd Qu.: 9.25   3rd Qu.:112886   3rd Qu.:46058   3rd Qu.:185737  \n",
            " Max.   :12.00   Max.   :119110   Max.   :51504   Max.   :191763  \n",
            "     okocim        regionalne         cola             lech      \n",
            " Min.   :52596   Min.   :48793   Min.   :215468   Min.   :54589  \n",
            " 1st Qu.:58661   1st Qu.:54606   1st Qu.:221066   1st Qu.:60722  \n",
            " Median :61654   Median :57046   Median :226084   Median :63404  \n",
            " Mean   :60541   Mean   :57229   Mean   :226458   Mean   :62980  \n",
            " 3rd Qu.:63143   3rd Qu.:60445   3rd Qu.:232854   3rd Qu.:66017  \n",
            " Max.   :67979   Max.   :64720   Max.   :235802   Max.   :68841  \n"
          ]
        }
      ]
    },
    {
      "cell_type": "markdown",
      "metadata": {
        "id": "Lx0uUhFsXd-r"
      },
      "source": [
        "**R Zad 2**"
      ]
    },
    {
      "cell_type": "code",
      "metadata": {
        "colab": {
          "base_uri": "https://localhost:8080/"
        },
        "id": "LGilC74XXT4H",
        "outputId": "ea44bb97-660e-4610-ef7d-f745c266ea60"
      },
      "source": [
        "%%R\n",
        "pepsi <- data[2]\n",
        "fanta <- data[3]\n",
        "\n",
        "print(summary(pepsi))\n",
        "print(summary(fanta))"
      ],
      "execution_count": 11,
      "outputs": [
        {
          "output_type": "stream",
          "name": "stdout",
          "text": [
            "     pepsi       \n",
            " Min.   :102809  \n",
            " 1st Qu.:105214  \n",
            " Median :107600  \n",
            " Mean   :109204  \n",
            " 3rd Qu.:112886  \n",
            " Max.   :119110  \n",
            "     fanta      \n",
            " Min.   :34145  \n",
            " 1st Qu.:39233  \n",
            " Median :41932  \n",
            " Mean   :42626  \n",
            " 3rd Qu.:46058  \n",
            " Max.   :51504  \n"
          ]
        }
      ]
    },
    {
      "cell_type": "markdown",
      "metadata": {
        "id": "Svp97ZWVX1hP"
      },
      "source": [
        "**R Zad 3**"
      ]
    },
    {
      "cell_type": "code",
      "metadata": {
        "colab": {
          "base_uri": "https://localhost:8080/"
        },
        "id": "5-lgtTy1X3WU",
        "outputId": "9cc2e865-c34d-4832-9fac-696c6095c828"
      },
      "source": [
        "%%R\n",
        "data <- t(read.csv(\"/content/Wzrost.csv\", sep=\",\",header=FALSE ))\n",
        "summary(data)"
      ],
      "execution_count": 25,
      "outputs": [
        {
          "output_type": "stream",
          "name": "stdout",
          "text": [
            "       V1       \n",
            " Min.   :151.0  \n",
            " 1st Qu.:160.2  \n",
            " Median :167.5  \n",
            " Mean   :174.2  \n",
            " 3rd Qu.:187.5  \n",
            " Max.   :199.0  \n"
          ]
        }
      ]
    }
  ]
}